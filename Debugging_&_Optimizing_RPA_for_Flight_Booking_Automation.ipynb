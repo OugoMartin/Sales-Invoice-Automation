{
  "nbformat": 4,
  "nbformat_minor": 0,
  "metadata": {
    "colab": {
      "provenance": [],
      "authorship_tag": "ABX9TyOACLn3pCsjLabBJVTS5yN7",
      "include_colab_link": true
    },
    "kernelspec": {
      "name": "python3",
      "display_name": "Python 3"
    },
    "language_info": {
      "name": "python"
    }
  },
  "cells": [
    {
      "cell_type": "markdown",
      "metadata": {
        "id": "view-in-github",
        "colab_type": "text"
      },
      "source": [
        "<a href=\"https://colab.research.google.com/github/OugoMartin/Sales-Invoice-Automation/blob/main/Debugging_%26_Optimizing_RPA_for_Flight_Booking_Automation.ipynb\" target=\"_parent\"><img src=\"https://colab.research.google.com/assets/colab-badge.svg\" alt=\"Open In Colab\"/></a>"
      ]
    },
    {
      "cell_type": "code",
      "execution_count": 12,
      "metadata": {
        "colab": {
          "base_uri": "https://localhost:8080/"
        },
        "id": "BVw-mAvxuU7M",
        "outputId": "7afccba0-384b-47b0-c81b-5cb3585e0890"
      },
      "outputs": [
        {
          "output_type": "stream",
          "name": "stdout",
          "text": [
            "{'PNR': 'YX5S0I', 'Passenger': 'Martin Ougo', 'Origin': 'JFK', 'Destination': 'SIN', 'Fare': '$164', 'Status': 'Confirmed'}\n",
            "{'PNR': '2NJBH1', 'Passenger': 'Jeff Jabez', 'Origin': 'CDG', 'Destination': 'HND', 'Fare': '$121', 'Status': 'Confirmed'}\n",
            "{'PNR': '06ZG3E', 'Passenger': 'James John', 'Origin': 'CDG', 'Destination': 'HND', 'Fare': '$228', 'Status': 'Checked-in'}\n",
            "{'PNR': 'F4G8YC', 'Passenger': 'Ethan Thomas', 'Origin': 'FRA', 'Destination': 'LHR', 'Fare': '$210', 'Status': 'Pending'}\n",
            "{'PNR': 'XR2LRH', 'Passenger': 'Charlotte White', 'Origin': 'SYD', 'Destination': 'FRA', 'Fare': '$145', 'Status': 'Checked-in'}\n",
            "{'PNR': 'RZ52O9', 'Passenger': 'Martin Ougo', 'Origin': 'HND', 'Destination': 'JFK', 'Fare': '$142', 'Status': 'Pending'}\n",
            "{'PNR': 'D70W1C', 'Passenger': 'Benard Ngare', 'Origin': 'FRA', 'Destination': 'HND', 'Fare': '$231', 'Status': 'Canceled'}\n",
            "{'PNR': 'L1W0LA', 'Passenger': 'Harper Clark', 'Origin': 'JFK', 'Destination': 'HKG', 'Fare': '$267', 'Status': 'Canceled'}\n",
            "{'PNR': 'ZSPBJW', 'Passenger': 'Thomas Junior', 'Origin': 'LHR', 'Destination': 'FRA', 'Fare': '$285', 'Status': 'Canceled'}\n",
            "{'PNR': 'SPG796', 'Passenger': 'Ethan Thomas', 'Origin': 'SYD', 'Destination': 'SIN', 'Fare': '$298', 'Status': 'Canceled'}\n",
            "{'PNR': 'EY7208', 'Passenger': 'James John', 'Origin': 'LHR', 'Destination': 'JFK', 'Fare': '$274', 'Status': 'Checked-in'}\n",
            "{'PNR': 'AA7L26', 'Passenger': 'Thomas Junior', 'Origin': 'SYD', 'Destination': 'SIN', 'Fare': '$181', 'Status': 'Canceled'}\n",
            "{'PNR': 'BXRVA1', 'Passenger': 'Osman Otieno', 'Origin': 'LAX', 'Destination': 'HKG', 'Fare': '$136', 'Status': 'Confirmed'}\n",
            "{'PNR': '2NGKYT', 'Passenger': 'Osman Otieno', 'Origin': 'LAX', 'Destination': 'HKG', 'Fare': '$101', 'Status': 'Checked-in'}\n",
            "{'PNR': 'S3BS2J', 'Passenger': 'Charlotte White', 'Origin': 'HND', 'Destination': 'PEK', 'Fare': '$168', 'Status': 'Confirmed'}\n",
            "{'PNR': 'B83W41', 'Passenger': 'Charlotte White', 'Origin': 'HKG', 'Destination': 'LHR', 'Fare': '$212', 'Status': 'Canceled'}\n",
            "{'PNR': 'NYNCU7', 'Passenger': 'Jackie Junior', 'Origin': 'PEK', 'Destination': 'HND', 'Fare': '$270', 'Status': 'Checked-in'}\n",
            "{'PNR': 'S1U6GB', 'Passenger': 'Charlotte White', 'Origin': 'SYD', 'Destination': 'DXB', 'Fare': '$150', 'Status': 'Canceled'}\n",
            "{'PNR': '0P39WS', 'Passenger': 'Oliver Miller', 'Origin': 'JFK', 'Destination': 'SIN', 'Fare': '$272', 'Status': 'Confirmed'}\n",
            "{'PNR': 'XJ436C', 'Passenger': 'James John', 'Origin': 'FRA', 'Destination': 'PEK', 'Fare': '$257', 'Status': 'Pending'}\n",
            "{'PNR': '7VE1M8', 'Passenger': 'Sam Wanga', 'Origin': 'FRA', 'Destination': 'SIN', 'Fare': '$244', 'Status': 'Checked-in'}\n",
            "{'PNR': 'ZWPJKV', 'Passenger': 'Lydia Ngare', 'Origin': 'FRA', 'Destination': 'PEK', 'Fare': '$256', 'Status': 'Pending'}\n",
            "{'PNR': 'TT46FY', 'Passenger': 'Oliver Miller', 'Origin': 'SYD', 'Destination': 'FRA', 'Fare': '$139', 'Status': 'Pending'}\n",
            "{'PNR': 'B2DMGX', 'Passenger': 'Ethan Thomas', 'Origin': 'LAX', 'Destination': 'HND', 'Fare': '$174', 'Status': 'Canceled'}\n",
            "{'PNR': '9HI8XV', 'Passenger': 'James John', 'Origin': 'FRA', 'Destination': 'JFK', 'Fare': '$114', 'Status': 'Checked-in'}\n",
            "{'PNR': 'U1HBJO', 'Passenger': 'Osman Otieno', 'Origin': 'SYD', 'Destination': 'LAX', 'Fare': '$134', 'Status': 'Pending'}\n",
            "{'PNR': 'HVY2NZ', 'Passenger': 'James John', 'Origin': 'HKG', 'Destination': 'CDG', 'Fare': '$280', 'Status': 'Pending'}\n",
            "{'PNR': '6B1V6U', 'Passenger': 'Oliver Miller', 'Origin': 'SIN', 'Destination': 'HND', 'Fare': '$205', 'Status': 'Confirmed'}\n",
            "{'PNR': 'YEAPNA', 'Passenger': 'James John', 'Origin': 'PEK', 'Destination': 'SIN', 'Fare': '$255', 'Status': 'Canceled'}\n",
            "{'PNR': '4KK410', 'Passenger': 'Charlotte White', 'Origin': 'HND', 'Destination': 'JFK', 'Fare': '$272', 'Status': 'Pending'}\n",
            "{'PNR': '7FTAIS', 'Passenger': 'James John', 'Origin': 'PEK', 'Destination': 'SYD', 'Fare': '$133', 'Status': 'Checked-in'}\n",
            "{'PNR': 'WU02FH', 'Passenger': 'Jemimah Ngare', 'Origin': 'LAX', 'Destination': 'SIN', 'Fare': '$105', 'Status': 'Confirmed'}\n",
            "{'PNR': 'EUWL0H', 'Passenger': 'Harper Clark', 'Origin': 'SYD', 'Destination': 'CDG', 'Fare': '$252', 'Status': 'Confirmed'}\n",
            "{'PNR': '1839BL', 'Passenger': 'Oliver Miller', 'Origin': 'LHR', 'Destination': 'JFK', 'Fare': '$116', 'Status': 'Canceled'}\n",
            "{'PNR': 'K07NIY', 'Passenger': 'John Ogutu', 'Origin': 'SIN', 'Destination': 'CDG', 'Fare': '$185', 'Status': 'Canceled'}\n",
            "{'PNR': 'IOMQUH', 'Passenger': 'Benard Ngare', 'Origin': 'FRA', 'Destination': 'LHR', 'Fare': '$135', 'Status': 'Canceled'}\n",
            "{'PNR': 'G1RKKZ', 'Passenger': 'Lydia Ngare', 'Origin': 'LAX', 'Destination': 'FRA', 'Fare': '$234', 'Status': 'Pending'}\n",
            "{'PNR': '9ZF11C', 'Passenger': 'Thomas Junior', 'Origin': 'DXB', 'Destination': 'LAX', 'Fare': '$238', 'Status': 'Canceled'}\n",
            "{'PNR': 'DT1W9Q', 'Passenger': 'Sam Wanga', 'Origin': 'SIN', 'Destination': 'FRA', 'Fare': '$219', 'Status': 'Confirmed'}\n",
            "{'PNR': 'D8WLFV', 'Passenger': 'Charlotte White', 'Origin': 'LAX', 'Destination': 'DXB', 'Fare': '$199', 'Status': 'Pending'}\n",
            "{'PNR': 'LW2TOY', 'Passenger': 'Jackie Junior', 'Origin': 'LHR', 'Destination': 'HND', 'Fare': '$255', 'Status': 'Checked-in'}\n",
            "{'PNR': 'Q3BUCO', 'Passenger': 'Martin Ougo', 'Origin': 'DXB', 'Destination': 'SIN', 'Fare': '$112', 'Status': 'Confirmed'}\n",
            "{'PNR': 'Z3X8NQ', 'Passenger': 'Lydia Ngare', 'Origin': 'HND', 'Destination': 'SIN', 'Fare': '$148', 'Status': 'Confirmed'}\n",
            "{'PNR': '2ZN80Q', 'Passenger': 'Osman Otieno', 'Origin': 'LHR', 'Destination': 'HND', 'Fare': '$235', 'Status': 'Pending'}\n",
            "{'PNR': '10GM47', 'Passenger': 'Sam Wanga', 'Origin': 'DXB', 'Destination': 'PEK', 'Fare': '$127', 'Status': 'Checked-in'}\n",
            "{'PNR': '8OYH9Y', 'Passenger': 'Lydia Ngare', 'Origin': 'DXB', 'Destination': 'HKG', 'Fare': '$266', 'Status': 'Canceled'}\n",
            "{'PNR': 'MAHL0W', 'Passenger': 'Charlotte White', 'Origin': 'PEK', 'Destination': 'CDG', 'Fare': '$276', 'Status': 'Pending'}\n",
            "{'PNR': 'FEN32O', 'Passenger': 'Lydia Ngare', 'Origin': 'FRA', 'Destination': 'CDG', 'Fare': '$243', 'Status': 'Confirmed'}\n",
            "{'PNR': 'AQGT91', 'Passenger': 'Jemimah Ngare', 'Origin': 'SIN', 'Destination': 'JFK', 'Fare': '$140', 'Status': 'Pending'}\n",
            "{'PNR': 'APMWP3', 'Passenger': 'Martin Ougo', 'Origin': 'SIN', 'Destination': 'PEK', 'Fare': '$228', 'Status': 'Checked-in'}\n"
          ]
        }
      ],
      "source": [
        "import random\n",
        "import string\n",
        "\n",
        "def generate_pnr():\n",
        "    \"\"\"Generates a random 6-character PNR (Passenger Name Record).\"\"\"\n",
        "    letters_and_digits = string.ascii_uppercase + string.digits\n",
        "    return ''.join(random.choice(letters_and_digits) for _ in range(6))\n",
        "\n",
        "def generate_flight_reservations(num_reservations=50):\n",
        "    \"\"\"\n",
        "    Generates a list of fake flight reservations.\n",
        "\n",
        "    Args:\n",
        "        num_reservations (int): The number of reservations to generate.\n",
        "\n",
        "    Returns:\n",
        "        list: A list of dictionaries, each representing a flight reservation.\n",
        "    \"\"\"\n",
        "    passengers = [\n",
        "        \"Martin Ougo\", \"Sam Wanga\", \"Osman Otieno\", \"Jemimah Ngare\", \"Benard Ngare\",\n",
        "        \"Oliver Miller\", \"James John\", \"John Ogutu\", \"Jackie Junior\", \"Jeff Jabez\",\n",
        "        \"Lydia Ngare\", \"Ethan Thomas\", \"Charlotte White\", \"Thomas Junior\", \"Harper Clark\"\n",
        "    ]\n",
        "    origins = [\"JFK\", \"LAX\", \"HND\", \"LHR\", \"SIN\", \"FRA\", \"PEK\", \"HKG\", \"CDG\", \"DXB\", \"SYD\"]\n",
        "    destinations = [\"JFK\", \"LAX\", \"HND\", \"LHR\", \"SIN\", \"FRA\", \"PEK\", \"HKG\", \"CDG\", \"DXB\", \"SYD\"]\n",
        "    statuses = [\"Confirmed\", \"Checked-in\", \"Pending\", \"Canceled\"]\n",
        "\n",
        "    reservations = []\n",
        "    for i in range(num_reservations):\n",
        "        pnr = generate_pnr()\n",
        "        passenger = random.choice(passengers)\n",
        "        origin = random.choice(origins)\n",
        "        destination = random.choice(destinations)\n",
        "        # Ensure origin and destination are not the same\n",
        "        while origin == destination:\n",
        "            destination = random.choice(destinations)\n",
        "        fare = f\"${random.randint(100, 300)}\"\n",
        "        status = random.choice(statuses)\n",
        "\n",
        "        reservation = {\n",
        "            \"PNR\": pnr,\n",
        "            \"Passenger\": passenger,\n",
        "            \"Origin\": origin,\n",
        "            \"Destination\": destination,\n",
        "            \"Fare\": fare,\n",
        "            \"Status\": status,\n",
        "        }\n",
        "        reservations.append(reservation)\n",
        "\n",
        "    return reservations\n",
        "\n",
        "if __name__ == '__main__':\n",
        "    flight_reservations = generate_flight_reservations()\n",
        "    for reservation in flight_reservations:\n",
        "        print(reservation)"
      ]
    }
  ]
}